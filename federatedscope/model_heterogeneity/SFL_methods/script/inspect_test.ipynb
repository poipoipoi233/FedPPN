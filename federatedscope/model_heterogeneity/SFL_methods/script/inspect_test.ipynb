{
 "cells": [
  {
   "cell_type": "code",
   "execution_count": 1,
   "id": "initial_id",
   "metadata": {
    "collapsed": true,
    "ExecuteTime": {
     "end_time": "2023-12-13T06:07:00.922681500Z",
     "start_time": "2023-12-13T06:07:00.917680400Z"
    }
   },
   "outputs": [],
   "source": [
    "from inspect import signature"
   ]
  },
  {
   "cell_type": "code",
   "execution_count": 2,
   "outputs": [],
   "source": [
    "def foo(a, *, b:int, **kwargs):\n",
    "    pass"
   ],
   "metadata": {
    "collapsed": false,
    "ExecuteTime": {
     "end_time": "2023-12-13T06:07:08.118912900Z",
     "start_time": "2023-12-13T06:07:08.110671100Z"
    }
   },
   "id": "6163b8ce25849e3b"
  },
  {
   "cell_type": "code",
   "execution_count": 3,
   "outputs": [],
   "source": [
    "sig = signature(foo)"
   ],
   "metadata": {
    "collapsed": false,
    "ExecuteTime": {
     "end_time": "2023-12-13T06:07:17.034055200Z",
     "start_time": "2023-12-13T06:07:17.025413500Z"
    }
   },
   "id": "efe270b12487da53"
  },
  {
   "cell_type": "code",
   "execution_count": 4,
   "outputs": [
    {
     "data": {
      "text/plain": "<Signature (a, *, b: int, **kwargs)>"
     },
     "execution_count": 4,
     "metadata": {},
     "output_type": "execute_result"
    }
   ],
   "source": [
    "sig"
   ],
   "metadata": {
    "collapsed": false,
    "ExecuteTime": {
     "end_time": "2023-12-13T06:07:19.099780800Z",
     "start_time": "2023-12-13T06:07:19.076666900Z"
    }
   },
   "id": "b2c2d0083d8975d6"
  },
  {
   "cell_type": "code",
   "execution_count": 5,
   "outputs": [
    {
     "data": {
      "text/plain": "mappingproxy({'a': <Parameter \"a\">,\n              'b': <Parameter \"b: int\">,\n              'kwargs': <Parameter \"**kwargs\">})"
     },
     "execution_count": 5,
     "metadata": {},
     "output_type": "execute_result"
    }
   ],
   "source": [
    "sig.parameters"
   ],
   "metadata": {
    "collapsed": false,
    "ExecuteTime": {
     "end_time": "2023-12-13T06:07:24.374458300Z",
     "start_time": "2023-12-13T06:07:24.356363400Z"
    }
   },
   "id": "7dd939f17a589cef"
  },
  {
   "cell_type": "code",
   "execution_count": null,
   "outputs": [],
   "source": [],
   "metadata": {
    "collapsed": false
   },
   "id": "976fc546cae360a6"
  }
 ],
 "metadata": {
  "kernelspec": {
   "display_name": "Python 3",
   "language": "python",
   "name": "python3"
  },
  "language_info": {
   "codemirror_mode": {
    "name": "ipython",
    "version": 2
   },
   "file_extension": ".py",
   "mimetype": "text/x-python",
   "name": "python",
   "nbconvert_exporter": "python",
   "pygments_lexer": "ipython2",
   "version": "2.7.6"
  }
 },
 "nbformat": 4,
 "nbformat_minor": 5
}
